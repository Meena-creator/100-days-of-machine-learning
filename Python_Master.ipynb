{
  "cells": [
    {
      "cell_type": "markdown",
      "metadata": {
        "id": "view-in-github",
        "colab_type": "text"
      },
      "source": [
        "<a href=\"https://colab.research.google.com/github/Meena-creator/100-days-of-machine-learning/blob/main/Python_Master.ipynb\" target=\"_parent\"><img src=\"https://colab.research.google.com/assets/colab-badge.svg\" alt=\"Open In Colab\"/></a>"
      ]
    },
    {
      "cell_type": "markdown",
      "id": "9cf99ccf",
      "metadata": {
        "id": "9cf99ccf"
      },
      "source": [
        "## Introduction to Python"
      ]
    },
    {
      "cell_type": "markdown",
      "id": "35e04220",
      "metadata": {
        "id": "35e04220"
      },
      "source": [
        "#### What is Python?"
      ]
    },
    {
      "cell_type": "markdown",
      "id": "0be12822",
      "metadata": {
        "id": "0be12822"
      },
      "source": [
        "Python is a high-level, interpreted programming language known for its simplicity and readability. It is widely used in various domains such as web development, data science, and automation."
      ]
    },
    {
      "cell_type": "markdown",
      "id": "bc5a75cb",
      "metadata": {
        "id": "bc5a75cb"
      },
      "source": [
        "#### What are the advantages of Python programming language?"
      ]
    },
    {
      "cell_type": "markdown",
      "id": "262cbc10",
      "metadata": {
        "id": "262cbc10"
      },
      "source": [
        "- **Libraries**: NumPy, pandas, and matplotlib enable efficient data manipulation, analysis, and visualization.\n",
        "- **Machine Learning**: Scikit-learn, TensorFlow, and PyTorch provide robust tools for machine learning and model building.\n",
        "- **Community Support**: A large, active community contributes new libraries, shared knowledge, and support.\n",
        "- **Integration**: Easily integrates with other languages and tools for seamless data science workflows.\n",
        "- **Flexibility**: Handles tasks from data cleaning to model deployment within the same environment.\n",
        "- **Scalability**: Works well with both small and large datasets for projects of any size.\n",
        "- **Ease of Learning**: Simple, readable syntax is beginner-friendly yet powerful for experienced users."
      ]
    },
    {
      "cell_type": "markdown",
      "id": "57028bbd",
      "metadata": {
        "id": "57028bbd"
      },
      "source": [
        "## Data Types in Python"
      ]
    },
    {
      "cell_type": "markdown",
      "id": "0d43d221",
      "metadata": {
        "id": "0d43d221"
      },
      "source": [
        "#### 1. **String to Integer**"
      ]
    },
    {
      "cell_type": "code",
      "execution_count": null,
      "id": "2717e245",
      "metadata": {
        "id": "2717e245"
      },
      "outputs": [],
      "source": [
        "st = \"123\""
      ]
    },
    {
      "cell_type": "code",
      "source": [
        "type(st)"
      ],
      "metadata": {
        "colab": {
          "base_uri": "https://localhost:8080/"
        },
        "id": "v4cSQgjtQUHm",
        "outputId": "c8858bda-054c-4092-9149-ca37da5a2101"
      },
      "id": "v4cSQgjtQUHm",
      "execution_count": null,
      "outputs": [
        {
          "output_type": "execute_result",
          "data": {
            "text/plain": [
              "str"
            ]
          },
          "metadata": {},
          "execution_count": 2
        }
      ]
    },
    {
      "cell_type": "code",
      "execution_count": null,
      "id": "c3c34302",
      "metadata": {
        "colab": {
          "base_uri": "https://localhost:8080/"
        },
        "id": "c3c34302",
        "outputId": "af94c0a4-3810-4e2b-a624-514dcf9d651e"
      },
      "outputs": [
        {
          "output_type": "stream",
          "name": "stdout",
          "text": [
            "123\n"
          ]
        },
        {
          "output_type": "execute_result",
          "data": {
            "text/plain": [
              "int"
            ]
          },
          "metadata": {},
          "execution_count": 3
        }
      ],
      "source": [
        "x = int(st)\n",
        "print(x)\n",
        "type(x)"
      ]
    },
    {
      "cell_type": "markdown",
      "id": "4d2a5287",
      "metadata": {
        "id": "4d2a5287"
      },
      "source": [
        "#### 2. **Integer to String**"
      ]
    },
    {
      "cell_type": "code",
      "execution_count": null,
      "id": "e100b781",
      "metadata": {
        "id": "e100b781"
      },
      "outputs": [],
      "source": [
        "int_value = 123"
      ]
    },
    {
      "cell_type": "code",
      "source": [
        "type(int_value)"
      ],
      "metadata": {
        "colab": {
          "base_uri": "https://localhost:8080/"
        },
        "id": "MYVvWYnXRHCl",
        "outputId": "61ea7722-ad84-499e-8f57-4267b16d7d84"
      },
      "id": "MYVvWYnXRHCl",
      "execution_count": null,
      "outputs": [
        {
          "output_type": "execute_result",
          "data": {
            "text/plain": [
              "int"
            ]
          },
          "metadata": {},
          "execution_count": 5
        }
      ]
    },
    {
      "cell_type": "code",
      "execution_count": null,
      "id": "b21028a8",
      "metadata": {
        "colab": {
          "base_uri": "https://localhost:8080/"
        },
        "id": "b21028a8",
        "outputId": "76ced8c8-fd6b-4f55-b157-1afe355ae3fe"
      },
      "outputs": [
        {
          "output_type": "stream",
          "name": "stdout",
          "text": [
            "123\n"
          ]
        },
        {
          "output_type": "execute_result",
          "data": {
            "text/plain": [
              "str"
            ]
          },
          "metadata": {},
          "execution_count": 6
        }
      ],
      "source": [
        "s = str(int_value)\n",
        "print(s)\n",
        "type(s)"
      ]
    },
    {
      "cell_type": "markdown",
      "id": "41d551ee",
      "metadata": {
        "id": "41d551ee"
      },
      "source": [
        "#### 3. **String to Float**"
      ]
    },
    {
      "cell_type": "code",
      "execution_count": null,
      "id": "40b27066",
      "metadata": {
        "id": "40b27066"
      },
      "outputs": [],
      "source": [
        "str_value = \"123.45\""
      ]
    },
    {
      "cell_type": "code",
      "execution_count": null,
      "id": "f2e50d70",
      "metadata": {
        "id": "f2e50d70",
        "colab": {
          "base_uri": "https://localhost:8080/"
        },
        "outputId": "22027ba2-b1e6-4720-eedd-e032917f65b2"
      },
      "outputs": [
        {
          "output_type": "stream",
          "name": "stdout",
          "text": [
            "123.0\n"
          ]
        },
        {
          "output_type": "execute_result",
          "data": {
            "text/plain": [
              "float"
            ]
          },
          "metadata": {},
          "execution_count": 12
        }
      ],
      "source": [
        "float_value = float(str_value)\n",
        "print(float_value)\n",
        "type(float_value)"
      ]
    },
    {
      "cell_type": "code",
      "source": [],
      "metadata": {
        "id": "PiIuse2kDayC"
      },
      "id": "PiIuse2kDayC",
      "execution_count": null,
      "outputs": []
    },
    {
      "cell_type": "markdown",
      "id": "53d83b28",
      "metadata": {
        "id": "53d83b28"
      },
      "source": [
        "#### 4. **Float to String**"
      ]
    },
    {
      "cell_type": "code",
      "execution_count": null,
      "id": "23bc60d6",
      "metadata": {
        "id": "23bc60d6"
      },
      "outputs": [],
      "source": [
        "float_value = 123.45"
      ]
    },
    {
      "cell_type": "code",
      "execution_count": null,
      "id": "2d0b19b1",
      "metadata": {
        "id": "2d0b19b1",
        "colab": {
          "base_uri": "https://localhost:8080/"
        },
        "outputId": "86847b9f-ef9f-4585-859c-86be966cbcc2"
      },
      "outputs": [
        {
          "output_type": "stream",
          "name": "stdout",
          "text": [
            "123.45\n"
          ]
        },
        {
          "output_type": "execute_result",
          "data": {
            "text/plain": [
              "str"
            ]
          },
          "metadata": {},
          "execution_count": 16
        }
      ],
      "source": [
        "str_value = str(float_value)\n",
        "print(str_value)\n",
        "type(str_value)"
      ]
    },
    {
      "cell_type": "markdown",
      "id": "cf702440",
      "metadata": {
        "id": "cf702440"
      },
      "source": [
        "#### 5. **Integer to Float**"
      ]
    },
    {
      "cell_type": "code",
      "execution_count": null,
      "id": "f30db774",
      "metadata": {
        "id": "f30db774"
      },
      "outputs": [],
      "source": [
        "int_value = 123"
      ]
    },
    {
      "cell_type": "code",
      "execution_count": null,
      "id": "d3e2b462",
      "metadata": {
        "id": "d3e2b462",
        "colab": {
          "base_uri": "https://localhost:8080/"
        },
        "outputId": "f9a2173c-a749-4dd5-9c38-81a90b50c75d"
      },
      "outputs": [
        {
          "output_type": "stream",
          "name": "stdout",
          "text": [
            "123.0\n"
          ]
        },
        {
          "output_type": "execute_result",
          "data": {
            "text/plain": [
              "float"
            ]
          },
          "metadata": {},
          "execution_count": 9
        }
      ],
      "source": [
        "x = float(int_value)\n",
        "print(x)\n",
        "type(x)"
      ]
    },
    {
      "cell_type": "markdown",
      "id": "b431f203",
      "metadata": {
        "id": "b431f203"
      },
      "source": [
        "#### 6. **Float to Integer**"
      ]
    },
    {
      "cell_type": "code",
      "execution_count": null,
      "id": "5eb7db29",
      "metadata": {
        "id": "5eb7db29"
      },
      "outputs": [],
      "source": [
        "float_value = 123.95"
      ]
    },
    {
      "cell_type": "code",
      "execution_count": null,
      "id": "3b0391f3",
      "metadata": {
        "id": "3b0391f3",
        "colab": {
          "base_uri": "https://localhost:8080/"
        },
        "outputId": "6373b3fb-7d09-4c38-97b0-0028a51b5c93"
      },
      "outputs": [
        {
          "output_type": "stream",
          "name": "stdout",
          "text": [
            "123\n"
          ]
        },
        {
          "output_type": "execute_result",
          "data": {
            "text/plain": [
              "int"
            ]
          },
          "metadata": {},
          "execution_count": 14
        }
      ],
      "source": [
        "x = int(float_value)\n",
        "print(x)\n",
        "type(x)"
      ]
    },
    {
      "cell_type": "markdown",
      "id": "eb978c95",
      "metadata": {
        "id": "eb978c95"
      },
      "source": [
        "#### 7. **String to List**"
      ]
    },
    {
      "cell_type": "code",
      "execution_count": null,
      "id": "d33608ee",
      "metadata": {
        "id": "d33608ee"
      },
      "outputs": [],
      "source": [
        "str_value = \"hello\""
      ]
    },
    {
      "cell_type": "code",
      "execution_count": null,
      "id": "85eb3602",
      "metadata": {
        "colab": {
          "base_uri": "https://localhost:8080/"
        },
        "id": "85eb3602",
        "outputId": "36a5ddb3-43ed-4750-eb9c-f40c51da6401"
      },
      "outputs": [
        {
          "output_type": "execute_result",
          "data": {
            "text/plain": [
              "['h', 'e', 'l', 'l', 'o']"
            ]
          },
          "metadata": {},
          "execution_count": 8
        }
      ],
      "source": [
        "lst = list(str_value)\n",
        "lst"
      ]
    },
    {
      "cell_type": "markdown",
      "id": "53455f29",
      "metadata": {
        "id": "53455f29"
      },
      "source": [
        "#### 8. **Integer to Boolean**"
      ]
    },
    {
      "cell_type": "code",
      "execution_count": null,
      "id": "13ac8f2d",
      "metadata": {
        "id": "13ac8f2d"
      },
      "outputs": [],
      "source": [
        "integer = 5"
      ]
    },
    {
      "cell_type": "code",
      "execution_count": null,
      "id": "7e6f57f1",
      "metadata": {
        "id": "7e6f57f1"
      },
      "outputs": [],
      "source": []
    },
    {
      "cell_type": "code",
      "execution_count": null,
      "id": "e112ed69",
      "metadata": {
        "id": "e112ed69"
      },
      "outputs": [],
      "source": [
        "integer = 0"
      ]
    },
    {
      "cell_type": "code",
      "execution_count": null,
      "id": "1f08aa62",
      "metadata": {
        "id": "1f08aa62"
      },
      "outputs": [],
      "source": []
    },
    {
      "cell_type": "markdown",
      "id": "a68cd336",
      "metadata": {
        "id": "a68cd336"
      },
      "source": [
        "Poll Q. What will be the output of bool(None)?"
      ]
    },
    {
      "cell_type": "markdown",
      "id": "f7ba33e8",
      "metadata": {
        "id": "f7ba33e8"
      },
      "source": [
        "## 2. Data Structures"
      ]
    },
    {
      "cell_type": "markdown",
      "id": "d35ae89e",
      "metadata": {
        "id": "d35ae89e"
      },
      "source": [
        "#### Example of a List\n",
        "my_list = [1, 2, 3, 4, 5]\n",
        "\n",
        "#### Example of a Tuple\n",
        "my_tuple = (1, 2, 3, 4, 5)\n",
        "\n",
        "#### Example of a Set\n",
        "my_set = {1, 2, 3, 4, 5}\n",
        "\n",
        "#### Example of a Dictionary\n",
        "my_dict = {'a': 1, 'b': 2, 'c': 3, 'd': 4, 'e': 5}\n",
        "\n"
      ]
    },
    {
      "cell_type": "markdown",
      "id": "a9e45cee",
      "metadata": {
        "id": "a9e45cee"
      },
      "source": [
        "### Comparison of data types"
      ]
    },
    {
      "cell_type": "markdown",
      "id": "caedd705",
      "metadata": {
        "id": "caedd705"
      },
      "source": [
        "| Parameters     | List                                                                          | Tuple                                                                           | Set                                                     | Dictionary                                                             |\n",
        "|----------------|-------------------------------------------------------------------------------|---------------------------------------------------------------------------------|---------------------------------------------------------|------------------------------------------------------------------------|\n",
        "| Definition     | A list is an ordered, mutable collection of elements.                        | A tuple is an ordered, immutable collection of elements.                        | A set is an unordered collection of unique elements.     | A dictionary is an unordered collection of key-value pairs.             |\n",
        "| Syntax         | Syntax includes square brackets [ , ] with ‘,’ separated data.               | Syntax includes curved brackets ( , ) with ‘,’ separated data.                  | Syntax includes curly brackets { , } with ‘,’ separated data. | Syntax includes curly brackets { , } with ‘,’ separated key-value data. |\n",
        "| Creation       | A list can be created using the list() function or simple assignment to [].   | Tuple can be created using the tuple() function.                                | A set can be created using the set() function.            | A dictionary can be created using the dict() function.                  |\n",
        "| Empty Data     | An empty list can be created by l = [].                                       | An empty tuple can be created by t = ().                                        | An empty set can be created by s = set().                | An empty dictionary can be created by {}.                               |\n",
        "| Order          | It is an ordered collection of data.                                          | It is also an ordered collection of data.                                       | It is an unordered collection of data.                   | Ordered collection in Python version 3.7, unordered in Python Version 3.6. |\n",
        "| Duplicate Data | Duplicate data entry is allowed in a List.                                    | Duplicate data entry is allowed in a Tuple.                                     | All elements are unique in a Set.                        | Keys are unique, but two different keys CAN have the same value.        |\n",
        "| Indexing       | Has integer-based indexing that starts from ‘0’.                              | Also has integer-based indexing that starts from ‘0’.                           | Does NOT have an index-based mechanism.                  | Has a Key-based indexing i.e., keys identify the value.                 |\n",
        "| Addition       | New items can be added using the append() method.                             | Being immutable, new data cannot be added to it.                                | The add() method adds an element to a set.               | update() method updates specific key-value pair.                        |\n",
        "| Deletion       | Pop() method allows deleting an element.                                      | Being immutable, no data can be popped/deleted.                                 | Elements can be randomly deleted using pop().            | pop(key) removes the specified key along with its value.                |\n",
        "| Sorting        | sort() method sorts the elements.                                             | Immutable, so sorting method is not applicable.                                 | Unordered, so sorting is not advised.                    | Keys are sorted by using the sorted() method.                           |\n",
        "| Search         | index() returns index of first occurrence.                                    | index() returns index of first occurrence.                                      | Unordered, so searching is not applicable.               | get(key) returns value against specified key.                           |\n",
        "| Reversing      | reverse() method reverses the list.                                           | Immutable, so reverse method is not applicable.                                 | Unordered, so reverse is not advised.                    | No integer-based indexing, so no reversal.                              |\n",
        "| Count          | count() method returns occurrence count.                                      | count() method returns occurrence count.                                        | count() not defined for sets.                            | count() not defined for dictionaries.                                   |\n"
      ]
    },
    {
      "cell_type": "markdown",
      "id": "4d023782",
      "metadata": {
        "id": "4d023782"
      },
      "source": [
        "### Operations on a List"
      ]
    },
    {
      "cell_type": "code",
      "execution_count": null,
      "id": "323cb401",
      "metadata": {
        "id": "323cb401"
      },
      "outputs": [],
      "source": [
        "my_list = [6,9,6,5,3,4,7]"
      ]
    },
    {
      "cell_type": "code",
      "execution_count": null,
      "id": "d30b87ab",
      "metadata": {
        "id": "d30b87ab"
      },
      "outputs": [],
      "source": [
        "#Indexing"
      ]
    },
    {
      "cell_type": "code",
      "execution_count": null,
      "id": "a3cb0dd7",
      "metadata": {
        "colab": {
          "base_uri": "https://localhost:8080/"
        },
        "id": "a3cb0dd7",
        "outputId": "31acec24-19ca-4db3-cb8b-2b2ea872f6e5"
      },
      "outputs": [
        {
          "output_type": "execute_result",
          "data": {
            "text/plain": [
              "6"
            ]
          },
          "metadata": {},
          "execution_count": 2
        }
      ],
      "source": [
        "my_list[2]"
      ]
    },
    {
      "cell_type": "code",
      "execution_count": null,
      "id": "db1d1e70",
      "metadata": {
        "id": "db1d1e70"
      },
      "outputs": [],
      "source": [
        "#Slicing"
      ]
    },
    {
      "cell_type": "code",
      "execution_count": null,
      "id": "a23fdf0f",
      "metadata": {
        "colab": {
          "base_uri": "https://localhost:8080/"
        },
        "id": "a23fdf0f",
        "outputId": "9f9106f8-cf72-4122-83b5-e05db231a8f5"
      },
      "outputs": [
        {
          "output_type": "execute_result",
          "data": {
            "text/plain": [
              "[9, 6]"
            ]
          },
          "metadata": {},
          "execution_count": 3
        }
      ],
      "source": [
        "my_list[1:3]"
      ]
    },
    {
      "cell_type": "code",
      "execution_count": null,
      "id": "16dc3889",
      "metadata": {
        "id": "16dc3889"
      },
      "outputs": [],
      "source": [
        "#Appending"
      ]
    },
    {
      "cell_type": "code",
      "execution_count": null,
      "id": "51638cb1",
      "metadata": {
        "colab": {
          "base_uri": "https://localhost:8080/"
        },
        "id": "51638cb1",
        "outputId": "89516b53-bee4-4e3a-8a40-3e0d5b8e9efa"
      },
      "outputs": [
        {
          "output_type": "execute_result",
          "data": {
            "text/plain": [
              "[6, 9, 6, 5, 3, 4, 7, 1004]"
            ]
          },
          "metadata": {},
          "execution_count": 4
        }
      ],
      "source": [
        "my_list.append(1004)\n",
        "my_list"
      ]
    },
    {
      "cell_type": "code",
      "execution_count": null,
      "id": "cdd6e301",
      "metadata": {
        "id": "cdd6e301"
      },
      "outputs": [],
      "source": [
        "#Inserting"
      ]
    },
    {
      "cell_type": "code",
      "execution_count": null,
      "id": "c42f3338",
      "metadata": {
        "id": "c42f3338",
        "colab": {
          "base_uri": "https://localhost:8080/"
        },
        "outputId": "41f5c9ca-ef64-46b9-8e80-a7c4a224bb09"
      },
      "outputs": [
        {
          "output_type": "execute_result",
          "data": {
            "text/plain": [
              "[6, 9, 1003, 6, 5, 3, 4, 7, 1004]"
            ]
          },
          "metadata": {},
          "execution_count": 5
        }
      ],
      "source": [
        "my_list.insert(2,1003)\n",
        "my_list"
      ]
    },
    {
      "cell_type": "code",
      "execution_count": null,
      "id": "6170254e",
      "metadata": {
        "id": "6170254e"
      },
      "outputs": [],
      "source": [
        "#Extending"
      ]
    },
    {
      "cell_type": "code",
      "execution_count": null,
      "id": "f8626752",
      "metadata": {
        "id": "f8626752",
        "colab": {
          "base_uri": "https://localhost:8080/"
        },
        "outputId": "792bb211-9eae-4a4e-be6a-fbe8834d5486"
      },
      "outputs": [
        {
          "output_type": "execute_result",
          "data": {
            "text/plain": [
              "[6, 9, 1003, 6, 5, 3, 4, 7, 1004, 1, 2, 3, 4, 1005, 1006]"
            ]
          },
          "metadata": {},
          "execution_count": 6
        }
      ],
      "source": [
        "my_list.extend([1,2,3,4,1005,1006])\n",
        "my_list"
      ]
    },
    {
      "cell_type": "code",
      "execution_count": null,
      "id": "44fb2bb7",
      "metadata": {
        "id": "44fb2bb7"
      },
      "outputs": [],
      "source": [
        "# Finding element's index number"
      ]
    },
    {
      "cell_type": "code",
      "execution_count": null,
      "id": "4a7942be",
      "metadata": {
        "id": "4a7942be",
        "colab": {
          "base_uri": "https://localhost:8080/"
        },
        "outputId": "4d5cf9be-57f4-4c49-901b-f65950635051"
      },
      "outputs": [
        {
          "output_type": "execute_result",
          "data": {
            "text/plain": [
              "8"
            ]
          },
          "metadata": {},
          "execution_count": 7
        }
      ],
      "source": [
        "my_list.index(1004)"
      ]
    },
    {
      "cell_type": "code",
      "execution_count": null,
      "id": "71761bbe",
      "metadata": {
        "id": "71761bbe"
      },
      "outputs": [],
      "source": [
        "# Reversing"
      ]
    },
    {
      "cell_type": "code",
      "execution_count": null,
      "id": "849784ef",
      "metadata": {
        "id": "849784ef",
        "colab": {
          "base_uri": "https://localhost:8080/"
        },
        "outputId": "7c4afb97-6fc5-4a02-c095-df87e5c8d8e7"
      },
      "outputs": [
        {
          "output_type": "execute_result",
          "data": {
            "text/plain": [
              "[1006, 1005, 4, 3, 2, 1, 1004, 7, 4, 3, 5, 6, 1003, 9, 6]"
            ]
          },
          "metadata": {},
          "execution_count": 8
        }
      ],
      "source": [
        "my_list.reverse()\n",
        "my_list"
      ]
    },
    {
      "cell_type": "code",
      "execution_count": null,
      "id": "004ff579",
      "metadata": {
        "id": "004ff579"
      },
      "outputs": [],
      "source": [
        "# Sorting"
      ]
    },
    {
      "cell_type": "code",
      "execution_count": null,
      "id": "77e20103",
      "metadata": {
        "id": "77e20103",
        "colab": {
          "base_uri": "https://localhost:8080/"
        },
        "outputId": "ace69b47-24e9-4331-b8bb-7172aedf8b18"
      },
      "outputs": [
        {
          "output_type": "execute_result",
          "data": {
            "text/plain": [
              "[1, 2, 3, 3, 4, 4, 5, 6, 6, 7, 9, 1003, 1004, 1005, 1006]"
            ]
          },
          "metadata": {},
          "execution_count": 9
        }
      ],
      "source": [
        "my_list.sort()\n",
        "my_list"
      ]
    },
    {
      "cell_type": "code",
      "source": [
        "my_list.pop(1)\n",
        "my_list"
      ],
      "metadata": {
        "colab": {
          "base_uri": "https://localhost:8080/"
        },
        "id": "fambhdMmfUdu",
        "outputId": "854a97e9-4e7e-41ab-c072-af9fa5f643d8"
      },
      "id": "fambhdMmfUdu",
      "execution_count": null,
      "outputs": [
        {
          "output_type": "execute_result",
          "data": {
            "text/plain": [
              "[1, 3, 3, 4, 4, 5, 6, 6, 7, 9, 1003, 1004, 1005, 1006]"
            ]
          },
          "metadata": {},
          "execution_count": 10
        }
      ]
    },
    {
      "cell_type": "markdown",
      "id": "c978d1d3",
      "metadata": {
        "id": "c978d1d3"
      },
      "source": [
        "### Frequently asked interview questions"
      ]
    },
    {
      "cell_type": "markdown",
      "id": "0f2907a1",
      "metadata": {
        "id": "0f2907a1"
      },
      "source": [
        "\n",
        "\n",
        "\n",
        "**Question 1**: Given the list `numbers = [1, 2, 3, 4, 5, 6]`, write a Python code that removes the third element, appends the number `7` to the list, and then reverses the list.\n"
      ]
    },
    {
      "cell_type": "code",
      "source": [
        "numbers = [1, 2, 3, 4, 5, 6]\n",
        "numbers.pop(2)\n",
        "numbers.append(7)\n",
        "numbers.reverse()\n",
        "numbers"
      ],
      "metadata": {
        "colab": {
          "base_uri": "https://localhost:8080/"
        },
        "id": "psjvxlcLd8WI",
        "outputId": "215a9902-f4aa-4e1e-f27c-798ba2c59423"
      },
      "id": "psjvxlcLd8WI",
      "execution_count": null,
      "outputs": [
        {
          "output_type": "execute_result",
          "data": {
            "text/plain": [
              "[7, 6, 5, 4, 2, 1]"
            ]
          },
          "metadata": {},
          "execution_count": 11
        }
      ]
    },
    {
      "cell_type": "markdown",
      "id": "25ba7d33",
      "metadata": {
        "id": "25ba7d33"
      },
      "source": [
        "\n",
        "\n",
        " **Question 2**: Given the list `words = [\"apple\", \"banana\", \"cherry\", \"date\"]`, write a Python code that inserts the word \"blueberry\" at the second position, removes the last word, and then returns the list sorted in alphabetical order."
      ]
    },
    {
      "cell_type": "code",
      "execution_count": null,
      "id": "98adfd7c",
      "metadata": {
        "colab": {
          "base_uri": "https://localhost:8080/"
        },
        "id": "98adfd7c",
        "outputId": "dc8073f5-40df-4a60-8ada-cac61264c50c"
      },
      "outputs": [
        {
          "output_type": "execute_result",
          "data": {
            "text/plain": [
              "['apple', 'banana', 'blueberry', 'cherry']"
            ]
          },
          "metadata": {},
          "execution_count": 12
        }
      ],
      "source": [
        "words = [\"apple\", \"banana\", \"cherry\", \"date\"]\n",
        "words.insert(1,\"blueberry\")\n",
        "words.pop()\n",
        "words.sort()\n",
        "words"
      ]
    },
    {
      "cell_type": "markdown",
      "source": [],
      "metadata": {
        "id": "lg97YjX0fCul"
      },
      "id": "lg97YjX0fCul"
    },
    {
      "cell_type": "markdown",
      "id": "8b6d9ca2",
      "metadata": {
        "id": "8b6d9ca2"
      },
      "source": [
        "### Operations specific to Tuples"
      ]
    },
    {
      "cell_type": "markdown",
      "id": "16bf8a5c",
      "metadata": {
        "id": "16bf8a5c"
      },
      "source": [
        "1. **Concatenation**: You can concatenate two or more tuples using the `+` operator.\n"
      ]
    },
    {
      "cell_type": "code",
      "execution_count": null,
      "id": "3d3ffe96",
      "metadata": {
        "id": "3d3ffe96"
      },
      "outputs": [],
      "source": [
        "tup1 = (1,2,3) # immutable\n",
        "\n",
        "tup2 = (4,5,6,7)"
      ]
    },
    {
      "cell_type": "code",
      "source": [
        "tup2[3]"
      ],
      "metadata": {
        "colab": {
          "base_uri": "https://localhost:8080/"
        },
        "id": "NBoXmyGnh2SG",
        "outputId": "0aa07169-ff6e-4468-897c-eaadc6b741cc"
      },
      "id": "NBoXmyGnh2SG",
      "execution_count": null,
      "outputs": [
        {
          "output_type": "execute_result",
          "data": {
            "text/plain": [
              "7"
            ]
          },
          "metadata": {},
          "execution_count": 41
        }
      ]
    },
    {
      "cell_type": "code",
      "execution_count": null,
      "id": "efdcff88",
      "metadata": {
        "colab": {
          "base_uri": "https://localhost:8080/"
        },
        "id": "efdcff88",
        "outputId": "5e3bf897-9788-4017-8517-7d19bc2e3fc9"
      },
      "outputs": [
        {
          "output_type": "execute_result",
          "data": {
            "text/plain": [
              "(1, 2, 3, 4, 5, 6, 7)"
            ]
          },
          "metadata": {},
          "execution_count": 37
        }
      ],
      "source": [
        "tup1+tup2"
      ]
    },
    {
      "cell_type": "markdown",
      "id": "717c7f8c",
      "metadata": {
        "id": "717c7f8c"
      },
      "source": [
        "2. **Repetition**: You can repeat a tuple multiple times using the `*` operator.\n"
      ]
    },
    {
      "cell_type": "code",
      "execution_count": null,
      "id": "3645389d",
      "metadata": {
        "id": "3645389d"
      },
      "outputs": [],
      "source": [
        "tup1 = (1,2,3)"
      ]
    },
    {
      "cell_type": "code",
      "source": [
        "lst = [1,2,3]\n",
        "lst*5"
      ],
      "metadata": {
        "colab": {
          "base_uri": "https://localhost:8080/"
        },
        "id": "pJR0WJdKiJOH",
        "outputId": "9ec39a76-8d56-422b-b52c-674e68f4e3fc"
      },
      "id": "pJR0WJdKiJOH",
      "execution_count": null,
      "outputs": [
        {
          "output_type": "execute_result",
          "data": {
            "text/plain": [
              "[1, 2, 3, 1, 2, 3, 1, 2, 3, 1, 2, 3, 1, 2, 3]"
            ]
          },
          "metadata": {},
          "execution_count": 42
        }
      ]
    },
    {
      "cell_type": "code",
      "execution_count": null,
      "id": "cff82545",
      "metadata": {
        "colab": {
          "base_uri": "https://localhost:8080/"
        },
        "id": "cff82545",
        "outputId": "49417b4f-6174-4904-80e6-c3d991304639"
      },
      "outputs": [
        {
          "output_type": "execute_result",
          "data": {
            "text/plain": [
              "(1, 2, 3, 1, 2, 3, 1, 2, 3, 1, 2, 3, 1, 2, 3)"
            ]
          },
          "metadata": {},
          "execution_count": 17
        }
      ],
      "source": [
        "tup1*5"
      ]
    },
    {
      "cell_type": "markdown",
      "id": "9a68fd06",
      "metadata": {
        "id": "9a68fd06"
      },
      "source": [
        "### Operations on Set"
      ]
    },
    {
      "cell_type": "code",
      "execution_count": null,
      "id": "1af01ea8",
      "metadata": {
        "id": "1af01ea8"
      },
      "outputs": [],
      "source": [
        "# Creating sets\n",
        "set1 = {1, 2, 3, 4, 5}\n",
        "set2 = {4, 5, 6, 7, 8}"
      ]
    },
    {
      "cell_type": "code",
      "execution_count": null,
      "id": "c0448cb5",
      "metadata": {
        "colab": {
          "base_uri": "https://localhost:8080/"
        },
        "id": "c0448cb5",
        "outputId": "b223a96c-4852-4518-8c8c-c54b49742b04"
      },
      "outputs": [
        {
          "output_type": "stream",
          "name": "stdout",
          "text": [
            "After adding element to set1: {1, 2, 3, 4, 5, 6}\n"
          ]
        }
      ],
      "source": [
        "# Adding elements\n",
        "set1.add(6)\n",
        "print(\"After adding element to set1:\", set1)"
      ]
    },
    {
      "cell_type": "code",
      "source": [
        "set2.add(9)\n",
        "set2"
      ],
      "metadata": {
        "colab": {
          "base_uri": "https://localhost:8080/"
        },
        "id": "tg5NW_VuiqnU",
        "outputId": "cee47993-c141-4509-97f4-570ef5243c5a"
      },
      "id": "tg5NW_VuiqnU",
      "execution_count": null,
      "outputs": [
        {
          "output_type": "execute_result",
          "data": {
            "text/plain": [
              "{4, 5, 6, 7, 8, 9}"
            ]
          },
          "metadata": {},
          "execution_count": 17
        }
      ]
    },
    {
      "cell_type": "code",
      "source": [
        "set1.add(3)\n",
        "set1"
      ],
      "metadata": {
        "colab": {
          "base_uri": "https://localhost:8080/"
        },
        "id": "jLf3G46Jia5T",
        "outputId": "2ef1cc20-31e0-4bc6-c54a-7ac29744828b"
      },
      "id": "jLf3G46Jia5T",
      "execution_count": null,
      "outputs": [
        {
          "output_type": "execute_result",
          "data": {
            "text/plain": [
              "{1, 2, 3, 4, 5, 6, 10}"
            ]
          },
          "metadata": {},
          "execution_count": 22
        }
      ]
    },
    {
      "cell_type": "code",
      "execution_count": null,
      "id": "437239b0",
      "metadata": {
        "colab": {
          "base_uri": "https://localhost:8080/"
        },
        "id": "437239b0",
        "outputId": "70d98c0c-3694-4bac-da2a-58747f3499e9"
      },
      "outputs": [
        {
          "output_type": "stream",
          "name": "stdout",
          "text": [
            "After updating set2: {4, 5, 6, 7, 8, 9, 10}\n"
          ]
        }
      ],
      "source": [
        "# Updating elements\n",
        "set2.update({9, 10})\n",
        "print(\"After updating set2:\", set2)"
      ]
    },
    {
      "cell_type": "code",
      "execution_count": null,
      "id": "5ab3bc60",
      "metadata": {
        "colab": {
          "base_uri": "https://localhost:8080/"
        },
        "id": "5ab3bc60",
        "outputId": "dae9f6d9-ff21-4519-f9df-a7c7fe3a59f2"
      },
      "outputs": [
        {
          "output_type": "stream",
          "name": "stdout",
          "text": [
            "After removing element from set1: {1, 2, 4, 5, 6, 10}\n"
          ]
        }
      ],
      "source": [
        "# Removing elements\n",
        "set1.remove(3)\n",
        "print(\"After removing element from set1:\", set1)"
      ]
    },
    {
      "cell_type": "code",
      "source": [
        "set1"
      ],
      "metadata": {
        "colab": {
          "base_uri": "https://localhost:8080/"
        },
        "id": "kPGuhMfGjf9F",
        "outputId": "a2426c0b-698d-4bad-e4ce-7ce4f05e8af3"
      },
      "id": "kPGuhMfGjf9F",
      "execution_count": null,
      "outputs": [
        {
          "output_type": "execute_result",
          "data": {
            "text/plain": [
              "set()"
            ]
          },
          "metadata": {},
          "execution_count": 32
        }
      ]
    },
    {
      "cell_type": "code",
      "execution_count": null,
      "id": "00701602",
      "metadata": {
        "colab": {
          "base_uri": "https://localhost:8080/",
          "height": 159
        },
        "id": "00701602",
        "outputId": "b1944307-2dc5-4941-e323-251feb9fffe8"
      },
      "outputs": [
        {
          "output_type": "error",
          "ename": "KeyError",
          "evalue": "'pop from an empty set'",
          "traceback": [
            "\u001b[0;31m---------------------------------------------------------------------------\u001b[0m",
            "\u001b[0;31mKeyError\u001b[0m                                  Traceback (most recent call last)",
            "\u001b[0;32m/tmp/ipython-input-1832050623.py\u001b[0m in \u001b[0;36m<cell line: 0>\u001b[0;34m()\u001b[0m\n\u001b[0;32m----> 1\u001b[0;31m \u001b[0mpopped_element\u001b[0m \u001b[0;34m=\u001b[0m \u001b[0mset1\u001b[0m\u001b[0;34m.\u001b[0m\u001b[0mpop\u001b[0m\u001b[0;34m(\u001b[0m\u001b[0;34m)\u001b[0m\u001b[0;34m\u001b[0m\u001b[0;34m\u001b[0m\u001b[0m\n\u001b[0m\u001b[1;32m      2\u001b[0m \u001b[0mprint\u001b[0m\u001b[0;34m(\u001b[0m\u001b[0;34m\"Popped element from set1:\"\u001b[0m\u001b[0;34m,\u001b[0m \u001b[0mpopped_element\u001b[0m\u001b[0;34m)\u001b[0m\u001b[0;34m\u001b[0m\u001b[0;34m\u001b[0m\u001b[0m\n",
            "\u001b[0;31mKeyError\u001b[0m: 'pop from an empty set'"
          ]
        }
      ],
      "source": [
        "popped_element = set1.pop()\n",
        "print(\"Popped element from set1:\", popped_element)"
      ]
    },
    {
      "cell_type": "code",
      "execution_count": null,
      "id": "11512d56",
      "metadata": {
        "colab": {
          "base_uri": "https://localhost:8080/"
        },
        "id": "11512d56",
        "outputId": "f12b3fd8-f18f-4cf3-fa5f-ce80bec4a618"
      },
      "outputs": [
        {
          "output_type": "stream",
          "name": "stdout",
          "text": [
            "Union of set1 and set2: {1, 2, 3, 4, 5, 6, 7, 8}\n"
          ]
        }
      ],
      "source": [
        "# Set Operations\n",
        "#Union\n",
        "set1 = {1, 2, 3, 4, 5}\n",
        "set2 = {4, 5, 6, 7, 8}\n",
        "union_set = set1.union(set2)\n",
        "print(\"Union of set1 and set2:\", union_set)"
      ]
    },
    {
      "cell_type": "code",
      "execution_count": null,
      "id": "214af29e",
      "metadata": {
        "colab": {
          "base_uri": "https://localhost:8080/"
        },
        "id": "214af29e",
        "outputId": "16c3f816-cb49-4201-9449-b7a184ef1088"
      },
      "outputs": [
        {
          "output_type": "stream",
          "name": "stdout",
          "text": [
            "Intersection of set1 and set2: {4, 5}\n"
          ]
        }
      ],
      "source": [
        "#Intersection\n",
        "set1 = {1, 2, 3, 4, 5}\n",
        "set2 = {4, 5, 6, 7, 8}\n",
        "intersection_set = set1.intersection(set2)\n",
        "print(\"Intersection of set1 and set2:\", intersection_set)"
      ]
    },
    {
      "cell_type": "code",
      "execution_count": null,
      "id": "9be9264b",
      "metadata": {
        "colab": {
          "base_uri": "https://localhost:8080/"
        },
        "id": "9be9264b",
        "outputId": "d9220611-a8a3-4bca-fc7a-cb4880ad355c"
      },
      "outputs": [
        {
          "output_type": "stream",
          "name": "stdout",
          "text": [
            "Difference of set1 and set2: {1, 2, 3}\n"
          ]
        }
      ],
      "source": [
        "#Difference\n",
        "set1 = {1, 2, 3, 4, 5}\n",
        "set2 = {4, 5, 6, 7, 8}\n",
        "difference_set = set1.difference(set2)\n",
        "print(\"Difference of set1 and set2:\", difference_set)"
      ]
    },
    {
      "cell_type": "code",
      "execution_count": null,
      "id": "48633204",
      "metadata": {
        "colab": {
          "base_uri": "https://localhost:8080/"
        },
        "id": "48633204",
        "outputId": "be52a336-37e2-4fc5-b6b5-9651aa473743"
      },
      "outputs": [
        {
          "output_type": "stream",
          "name": "stdout",
          "text": [
            "Symmetric Difference of set1 and set2: {1, 2, 3, 6, 7, 8}\n"
          ]
        }
      ],
      "source": [
        "#Symmetric-difference\n",
        "set1 = {1, 2, 3, 4, 5}\n",
        "set2 = {4, 5, 6, 7, 8}\n",
        "symmetric_difference_set = set1.symmetric_difference(set2)\n",
        "print(\"Symmetric Difference of set1 and set2:\", symmetric_difference_set)"
      ]
    },
    {
      "cell_type": "code",
      "execution_count": null,
      "id": "327d7721",
      "metadata": {
        "colab": {
          "base_uri": "https://localhost:8080/"
        },
        "id": "327d7721",
        "outputId": "94baa6cc-039f-47c4-d389-6e42db34dbc6"
      },
      "outputs": [
        {
          "output_type": "stream",
          "name": "stdout",
          "text": [
            "Is set1 a subset of set2? False\n",
            "Is set2 a subset of set1? True\n"
          ]
        }
      ],
      "source": [
        "# Set Comparison\n",
        "\n",
        "set1 = {1,2,3,4,5}\n",
        "set2 = {2,3}\n",
        "\n",
        "\n",
        "print(\"Is set1 a subset of set2?\", set1.issubset(set2))\n",
        "print(\"Is set2 a subset of set1?\", set2.issubset(set1))"
      ]
    },
    {
      "cell_type": "code",
      "execution_count": null,
      "id": "f012116b",
      "metadata": {
        "colab": {
          "base_uri": "https://localhost:8080/"
        },
        "id": "f012116b",
        "outputId": "8f8bc8de-68ea-454b-819c-27a84a269226"
      },
      "outputs": [
        {
          "output_type": "stream",
          "name": "stdout",
          "text": [
            "Are set1 and set2 disjoint? False\n"
          ]
        }
      ],
      "source": [
        "set1 = {1,2,3}\n",
        "set2 = {1,6,7}\n",
        "\n",
        "print(\"Are set1 and set2 disjoint?\", set1.isdisjoint(set2))"
      ]
    },
    {
      "cell_type": "markdown",
      "source": [
        "### Operations in a dictionary"
      ],
      "metadata": {
        "id": "6UX8uah4mrrl"
      },
      "id": "6UX8uah4mrrl"
    },
    {
      "cell_type": "code",
      "source": [
        "dct = {1:\"Apple\", 2:\"Banana\", \"fruits\":\"tasty\"}"
      ],
      "metadata": {
        "id": "NFMlZPGjmq5X"
      },
      "id": "NFMlZPGjmq5X",
      "execution_count": null,
      "outputs": []
    },
    {
      "cell_type": "code",
      "source": [
        "dct[\"Home\"] = \"Sweet\""
      ],
      "metadata": {
        "id": "BuCFe9f1m6LZ"
      },
      "id": "BuCFe9f1m6LZ",
      "execution_count": null,
      "outputs": []
    },
    {
      "cell_type": "code",
      "source": [
        "dct[3] = \"Blueberry\"\n",
        "dct"
      ],
      "metadata": {
        "colab": {
          "base_uri": "https://localhost:8080/"
        },
        "id": "H0d8LQ9jnDVv",
        "outputId": "4c48f234-a1e3-4b68-81bf-a144087688e6"
      },
      "id": "H0d8LQ9jnDVv",
      "execution_count": null,
      "outputs": [
        {
          "output_type": "execute_result",
          "data": {
            "text/plain": [
              "{1: 'Apple', 2: 'Banana', 'fruits': 'tasty', 'Home': 'Sweet', 3: 'Blueberry'}"
            ]
          },
          "metadata": {},
          "execution_count": 37
        }
      ]
    },
    {
      "cell_type": "code",
      "source": [
        "dct[\"Home\"]"
      ],
      "metadata": {
        "colab": {
          "base_uri": "https://localhost:8080/",
          "height": 35
        },
        "id": "LugziK4CnQ87",
        "outputId": "fa6a2a27-cf90-4a75-f0e2-65380d92c1d7"
      },
      "id": "LugziK4CnQ87",
      "execution_count": null,
      "outputs": [
        {
          "output_type": "execute_result",
          "data": {
            "text/plain": [
              "'Sweet'"
            ],
            "application/vnd.google.colaboratory.intrinsic+json": {
              "type": "string"
            }
          },
          "metadata": {},
          "execution_count": 39
        }
      ]
    },
    {
      "cell_type": "code",
      "source": [
        "# Keys of a dictionary\n",
        "\n",
        "dct.keys()"
      ],
      "metadata": {
        "colab": {
          "base_uri": "https://localhost:8080/"
        },
        "id": "hTdHq1GUnW3h",
        "outputId": "8c7e4f9b-2e0d-4e80-ad70-92b4276e23ca"
      },
      "id": "hTdHq1GUnW3h",
      "execution_count": null,
      "outputs": [
        {
          "output_type": "execute_result",
          "data": {
            "text/plain": [
              "dict_keys([1, 2, 'fruits', 'Home', 3])"
            ]
          },
          "metadata": {},
          "execution_count": 40
        }
      ]
    },
    {
      "cell_type": "code",
      "source": [
        "# Values of a dictionary\n",
        "\n",
        "dct.values()"
      ],
      "metadata": {
        "colab": {
          "base_uri": "https://localhost:8080/"
        },
        "id": "eggw47c0nl3X",
        "outputId": "b6688a93-1561-482a-c472-6ef41920c3c0"
      },
      "id": "eggw47c0nl3X",
      "execution_count": null,
      "outputs": [
        {
          "output_type": "execute_result",
          "data": {
            "text/plain": [
              "dict_values(['Apple', 'Banana', 'tasty', 'Sweet', 'Blueberry'])"
            ]
          },
          "metadata": {},
          "execution_count": 43
        }
      ]
    },
    {
      "cell_type": "code",
      "source": [
        "# key value pairs\n",
        "\n",
        "dct.items()"
      ],
      "metadata": {
        "colab": {
          "base_uri": "https://localhost:8080/"
        },
        "id": "XTZK7OAFndMa",
        "outputId": "9c523ec2-a46a-4d49-aac7-dbab62f80955"
      },
      "id": "XTZK7OAFndMa",
      "execution_count": null,
      "outputs": [
        {
          "output_type": "execute_result",
          "data": {
            "text/plain": [
              "dict_items([(1, 'Apple'), (2, 'Banana'), ('fruits', 'tasty'), ('Home', 'Sweet'), (3, 'Blueberry')])"
            ]
          },
          "metadata": {},
          "execution_count": 41
        }
      ]
    },
    {
      "cell_type": "code",
      "source": [
        "# Remove key value pair from dictionary\n",
        "\n",
        "dct.pop(2)\n",
        "dct"
      ],
      "metadata": {
        "colab": {
          "base_uri": "https://localhost:8080/"
        },
        "id": "58feAS0gnrny",
        "outputId": "df0396c7-aed3-4011-ddbc-5ac1debcc178"
      },
      "id": "58feAS0gnrny",
      "execution_count": null,
      "outputs": [
        {
          "output_type": "execute_result",
          "data": {
            "text/plain": [
              "{1: 'Apple', 'fruits': 'tasty', 'Home': 'Sweet', 3: 'Blueberry'}"
            ]
          },
          "metadata": {},
          "execution_count": 46
        }
      ]
    },
    {
      "cell_type": "code",
      "source": [
        "dct.pop(3)\n",
        "dct"
      ],
      "metadata": {
        "colab": {
          "base_uri": "https://localhost:8080/"
        },
        "id": "WTBjyNKKn-nF",
        "outputId": "84d694e7-eb72-40d1-880b-aa5e72c7d2f1"
      },
      "id": "WTBjyNKKn-nF",
      "execution_count": null,
      "outputs": [
        {
          "output_type": "execute_result",
          "data": {
            "text/plain": [
              "{1: 'Apple', 'fruits': 'tasty', 'Home': 'Sweet'}"
            ]
          },
          "metadata": {},
          "execution_count": 47
        }
      ]
    },
    {
      "cell_type": "code",
      "source": [
        "dct.get(\"Home\")"
      ],
      "metadata": {
        "colab": {
          "base_uri": "https://localhost:8080/",
          "height": 35
        },
        "id": "qVUHk-OooKeu",
        "outputId": "68e2456a-69ff-4897-9e17-b9af06cbd6dd"
      },
      "id": "qVUHk-OooKeu",
      "execution_count": null,
      "outputs": [
        {
          "output_type": "execute_result",
          "data": {
            "text/plain": [
              "'Sweet'"
            ],
            "application/vnd.google.colaboratory.intrinsic+json": {
              "type": "string"
            }
          },
          "metadata": {},
          "execution_count": 48
        }
      ]
    },
    {
      "cell_type": "code",
      "source": [
        "dct.pop(\"Home\")\n",
        "dct"
      ],
      "metadata": {
        "colab": {
          "base_uri": "https://localhost:8080/"
        },
        "id": "7pMe4DrUoyIw",
        "outputId": "e139c1ec-aa13-44fd-a100-4beec0691eee"
      },
      "id": "7pMe4DrUoyIw",
      "execution_count": null,
      "outputs": [
        {
          "output_type": "execute_result",
          "data": {
            "text/plain": [
              "{1: 'Apple', 'fruits': 'tasty'}"
            ]
          },
          "metadata": {},
          "execution_count": 49
        }
      ]
    },
    {
      "cell_type": "code",
      "source": [
        "dct.update({1:\"Mango\"})\n",
        "dct"
      ],
      "metadata": {
        "colab": {
          "base_uri": "https://localhost:8080/"
        },
        "id": "qMjGMNnQo8Oa",
        "outputId": "308ed6f7-07e4-439e-b0e8-841ef3f9a381"
      },
      "id": "qMjGMNnQo8Oa",
      "execution_count": null,
      "outputs": [
        {
          "output_type": "execute_result",
          "data": {
            "text/plain": [
              "{1: 'Mango', 'fruits': 'tasty'}"
            ]
          },
          "metadata": {},
          "execution_count": 50
        }
      ]
    },
    {
      "cell_type": "code",
      "source": [
        "dct[2] = \"Apple\"\n",
        "dct"
      ],
      "metadata": {
        "colab": {
          "base_uri": "https://localhost:8080/"
        },
        "id": "rhHJ9PHrpDzS",
        "outputId": "322d74c6-49d0-44c0-d98d-f81600e32cb3"
      },
      "id": "rhHJ9PHrpDzS",
      "execution_count": null,
      "outputs": [
        {
          "output_type": "execute_result",
          "data": {
            "text/plain": [
              "{1: 'Mango', 'fruits': 'tasty', 2: 'Apple'}"
            ]
          },
          "metadata": {},
          "execution_count": 51
        }
      ]
    },
    {
      "cell_type": "code",
      "source": [
        "dct.update({3:\"Blueberry\"})\n",
        "dct"
      ],
      "metadata": {
        "colab": {
          "base_uri": "https://localhost:8080/"
        },
        "id": "3tYUvksbpHeo",
        "outputId": "111b430a-3de6-4065-f698-5218f260fbc6"
      },
      "id": "3tYUvksbpHeo",
      "execution_count": null,
      "outputs": [
        {
          "output_type": "execute_result",
          "data": {
            "text/plain": [
              "{1: 'Mango', 'fruits': 'tasty', 2: 'Apple', 3: 'Blueberry'}"
            ]
          },
          "metadata": {},
          "execution_count": 52
        }
      ]
    },
    {
      "cell_type": "code",
      "source": [
        "dct1 = {1:2, 3:4}\n",
        "dct2 = {5:6, 7:8}\n",
        "\n",
        "dct1.update(dct2)\n",
        "dct1"
      ],
      "metadata": {
        "colab": {
          "base_uri": "https://localhost:8080/"
        },
        "id": "OijwYQWRpyQw",
        "outputId": "daa630cd-af86-41b9-f9be-6ae69c37394c"
      },
      "id": "OijwYQWRpyQw",
      "execution_count": null,
      "outputs": [
        {
          "output_type": "execute_result",
          "data": {
            "text/plain": [
              "{1: 2, 3: 4, 5: 6, 7: 8}"
            ]
          },
          "metadata": {},
          "execution_count": 53
        }
      ]
    },
    {
      "cell_type": "markdown",
      "id": "122bfc5d",
      "metadata": {
        "id": "122bfc5d"
      },
      "source": [
        "## 3. Control Flow Statements"
      ]
    },
    {
      "cell_type": "markdown",
      "id": "3ff3acd0",
      "metadata": {
        "id": "3ff3acd0"
      },
      "source": [
        "1. **if statement**: Used for conditional execution, where different code blocks are executed based on whether a condition is true or false."
      ]
    },
    {
      "cell_type": "code",
      "execution_count": null,
      "id": "f0fb87ba",
      "metadata": {
        "colab": {
          "base_uri": "https://localhost:8080/"
        },
        "id": "f0fb87ba",
        "outputId": "e46277c1-5398-4da5-c8a6-69116bc5e0a5"
      },
      "outputs": [
        {
          "output_type": "stream",
          "name": "stdout",
          "text": [
            "X\n",
            "I am giving 5 chocolates to my friends\n"
          ]
        }
      ],
      "source": [
        "chocolates = 10\n",
        "\n",
        "if chocolates >= 10:\n",
        "  print(\"X\")\n",
        "  print(\"I am giving 5 chocolates to my friends\")\n",
        "else:\n",
        "  print(\"I am giving 2 chocolates to my friends\")"
      ]
    },
    {
      "cell_type": "markdown",
      "source": [
        "#### Question 1: Write a program in python to take input of a number and print if its even or odd."
      ],
      "metadata": {
        "id": "pbhBX5k_lpDn"
      },
      "id": "pbhBX5k_lpDn"
    },
    {
      "cell_type": "code",
      "source": [
        "x = int(input(\"Enter a number: \"))\n",
        "if x%2 == 0:\n",
        "  print(\"Even\")\n",
        "else:\n",
        "  print(\"Odd\")"
      ],
      "metadata": {
        "colab": {
          "base_uri": "https://localhost:8080/"
        },
        "id": "sMvw4atTvPqr",
        "outputId": "ffb89413-414a-4d0d-d431-30539fa061a9"
      },
      "id": "sMvw4atTvPqr",
      "execution_count": null,
      "outputs": [
        {
          "output_type": "stream",
          "name": "stdout",
          "text": [
            "Enter a number: 2345\n",
            "Odd\n"
          ]
        }
      ]
    },
    {
      "cell_type": "markdown",
      "source": [
        "#### Question 2: Write a program in python to take two numbers as input and also the operation ('add', 'subtract', 'multiply', 'divide', 'remainder'). And finally create a calculator using python.\n",
        "\n",
        "\n",
        "- For example:\n",
        "- Input: a = 2, b = 3, operation = \"add\"\n",
        "- Output: 5"
      ],
      "metadata": {
        "id": "d1hKqXHnwS3U"
      },
      "id": "d1hKqXHnwS3U"
    },
    {
      "cell_type": "code",
      "source": [
        "a = int(input(\"Enter first number: \"))\n",
        "b = int(input(\"Enter second number: \"))\n",
        "ops = input(\"Enter the operation: \")\n",
        "\n",
        "if ops == \"add\":\n",
        "  print(\"a+b = \", a+b)\n",
        "elif ops == \"subtract\":\n",
        "  print(\"a-b = \", a-b)\n",
        "elif ops == \"multiply\":\n",
        "  print(\"a*b = \", a*b)\n",
        "elif ops == \"divide\":\n",
        "  print(\"a/b = \", a/b)\n",
        "else:\n",
        "  print(\"a%b = \", a%b)"
      ],
      "metadata": {
        "colab": {
          "base_uri": "https://localhost:8080/"
        },
        "id": "VWby34_pwvLU",
        "outputId": "97a8f0e3-789a-4f94-f016-9b4b36b4f475"
      },
      "id": "VWby34_pwvLU",
      "execution_count": null,
      "outputs": [
        {
          "output_type": "stream",
          "name": "stdout",
          "text": [
            "Enter first number: 10\n",
            "Enter second number: 2\n",
            "Enter the operation: add\n",
            "a+b =  12\n"
          ]
        }
      ]
    },
    {
      "cell_type": "markdown",
      "id": "f9df2bf4",
      "metadata": {
        "id": "f9df2bf4"
      },
      "source": [
        "2. **for loop**: Used for iterating over a sequence (such as a list, tuple, or string) or other iterable objects."
      ]
    },
    {
      "cell_type": "code",
      "execution_count": null,
      "id": "b2096456",
      "metadata": {
        "colab": {
          "base_uri": "https://localhost:8080/"
        },
        "id": "b2096456",
        "outputId": "32d74f8a-1dbe-4a47-8fd5-959fbf60dad8"
      },
      "outputs": [
        {
          "output_type": "stream",
          "name": "stdout",
          "text": [
            "1 2 3 4 5 "
          ]
        }
      ],
      "source": [
        "# Example of for loop\n",
        "for i in range(1, 6):\n",
        "    print(i, end=\" \")"
      ]
    },
    {
      "cell_type": "code",
      "source": [
        "my_list = [2,3,4,10,11,12,13,14,15,16,17]\n",
        "\n",
        "for i in my_list:\n",
        "  print(i)"
      ],
      "metadata": {
        "colab": {
          "base_uri": "https://localhost:8080/"
        },
        "id": "o8HnKBPI6CEI",
        "outputId": "41273ce0-dbec-47de-ef6d-2d7bcc85b47b"
      },
      "id": "o8HnKBPI6CEI",
      "execution_count": null,
      "outputs": [
        {
          "output_type": "stream",
          "name": "stdout",
          "text": [
            "2\n",
            "3\n",
            "4\n",
            "10\n",
            "11\n",
            "12\n",
            "13\n",
            "14\n",
            "15\n",
            "16\n",
            "17\n"
          ]
        }
      ]
    },
    {
      "cell_type": "code",
      "source": [],
      "metadata": {
        "id": "teSKB8DqpeHL"
      },
      "id": "teSKB8DqpeHL",
      "execution_count": null,
      "outputs": []
    },
    {
      "cell_type": "code",
      "source": [],
      "metadata": {
        "id": "WalkU2EP5trO"
      },
      "id": "WalkU2EP5trO",
      "execution_count": null,
      "outputs": []
    },
    {
      "cell_type": "markdown",
      "id": "2686da8d",
      "metadata": {
        "id": "2686da8d"
      },
      "source": [
        "3. **while loop**: Used for executing a block of code repeatedly as long as a condition is true."
      ]
    },
    {
      "cell_type": "code",
      "execution_count": null,
      "id": "de258d17",
      "metadata": {
        "colab": {
          "base_uri": "https://localhost:8080/"
        },
        "id": "de258d17",
        "outputId": "e9423e52-276b-4302-e768-0925641ad326"
      },
      "outputs": [
        {
          "output_type": "stream",
          "name": "stdout",
          "text": [
            "0\n",
            "1\n",
            "2\n",
            "3\n",
            "4\n"
          ]
        }
      ],
      "source": [
        "# Example of while loop\n",
        "count = 0\n",
        "while count < 5:\n",
        "    print(count)  # Prints numbers 0 to 4 separated by space\n",
        "    count = count + 1 # Limiting statement\n"
      ]
    },
    {
      "cell_type": "markdown",
      "source": [
        "### Question 1: Write a program in python to take a number as input and count that number backwards till 0.\n",
        "\n",
        "For example:\n",
        "- Input: 5\n",
        "- Output: 5 4 3 2 1 0"
      ],
      "metadata": {
        "id": "S1GCIhxBYgOE"
      },
      "id": "S1GCIhxBYgOE"
    },
    {
      "cell_type": "code",
      "source": [
        "x = int(input(\"Enter the number: \"))\n",
        "while x >= 0:\n",
        "  print(x, end=\" \")\n",
        "  x = x - 1"
      ],
      "metadata": {
        "colab": {
          "base_uri": "https://localhost:8080/"
        },
        "id": "ASaVqmsUa9cx",
        "outputId": "dd3554be-f4a4-4d49-c358-f9fcfa300b8f"
      },
      "id": "ASaVqmsUa9cx",
      "execution_count": null,
      "outputs": [
        {
          "output_type": "stream",
          "name": "stdout",
          "text": [
            "Enter the number: 7\n",
            "7 6 5 4 3 2 1 0 "
          ]
        }
      ]
    },
    {
      "cell_type": "markdown",
      "source": [
        "### Question 2: Write a program in python to take a list of numbers as input and print only the numbers that are divible by 3.\n",
        "\n",
        "For example:\n",
        "- Input:\n",
        "10\n",
        "1, 2, 3, 4, 5, 6, 7, 8, 9, 10\n",
        "- Ouput: 3, 6, 9"
      ],
      "metadata": {
        "id": "vsNlktXvY3qv"
      },
      "id": "vsNlktXvY3qv"
    },
    {
      "cell_type": "code",
      "source": [
        "n = int(input(\"Enter the count of numbers in the list: \"))\n",
        "my_list = []\n",
        "print(\"Enter the numbers in the list: \")\n",
        "for i in range(n):\n",
        "  x = int(input())\n",
        "  my_list.append(x)\n",
        "\n",
        "\n",
        "print(\"The numbers that are divible by 3 are\", end=\" \")\n",
        "for i in my_list:\n",
        "  if i%3 == 0:\n",
        "    print(i, end=\" \")"
      ],
      "metadata": {
        "colab": {
          "base_uri": "https://localhost:8080/"
        },
        "id": "NbHe7XD6bjFu",
        "outputId": "2fb378d7-5d86-4388-bd0a-e8305528c8c8"
      },
      "id": "NbHe7XD6bjFu",
      "execution_count": null,
      "outputs": [
        {
          "output_type": "stream",
          "name": "stdout",
          "text": [
            "Enter the count of numbers in the list: 5\n",
            "Enter the numbers in the list: \n",
            "3\n",
            "1\n",
            "6\n",
            "9\n",
            "12\n",
            "The numbers that are divible by 3 are 3 6 9 12 "
          ]
        }
      ]
    },
    {
      "cell_type": "code",
      "source": [
        "word = input(\"Enter the list of numbers: \")\n",
        "\n",
        "my_list = word.split(\" \")\n",
        "\n",
        "print(my_list)\n",
        "\n",
        "numbers_list = [int(item) for item in my_list]\n",
        "\n",
        "print(numbers_list)"
      ],
      "metadata": {
        "colab": {
          "base_uri": "https://localhost:8080/"
        },
        "id": "p6Rm_v9qfSJv",
        "outputId": "37727eeb-3fbd-4a16-96a1-5654fffd84f8"
      },
      "id": "p6Rm_v9qfSJv",
      "execution_count": null,
      "outputs": [
        {
          "output_type": "stream",
          "name": "stdout",
          "text": [
            "Enter the list of numbers: 1 2 3 4 5\n",
            "['1', '2', '3', '4', '5']\n",
            "[1, 2, 3, 4, 5]\n"
          ]
        }
      ]
    },
    {
      "cell_type": "markdown",
      "id": "ba4c66a2",
      "metadata": {
        "id": "ba4c66a2"
      },
      "source": [
        "4. **continue statement**: Used inside loops to skip the rest of the code inside the loop for the current iteration and proceed to the next iteration."
      ]
    },
    {
      "cell_type": "code",
      "execution_count": null,
      "id": "06416af4",
      "metadata": {
        "colab": {
          "base_uri": "https://localhost:8080/"
        },
        "id": "06416af4",
        "outputId": "f2bfbf5f-25e1-4c37-e539-4f01a11ed343"
      },
      "outputs": [
        {
          "output_type": "stream",
          "name": "stdout",
          "text": [
            "Inside Loop\n",
            "1\n",
            "Before Continue\n",
            "Inside Loop\n",
            "3\n",
            "Before Continue\n",
            "Inside Loop\n",
            "5\n",
            "Before Continue\n",
            "Inside Loop\n",
            "7\n",
            "Before Continue\n",
            "Inside Loop\n",
            "9\n",
            "Before Continue\n"
          ]
        }
      ],
      "source": [
        "# Example of continue statement\n",
        "for i in range(1, 11): # 1,2,3,4,5,6,7,8,9,10\n",
        "    if i % 2 == 0:\n",
        "        print(\"Before Continue\")\n",
        "        continue  # Skips current iteration\n",
        "        print(\"After Continue\")\n",
        "        print(1/0)\n",
        "    print(\"Inside Loop\")\n",
        "    print(i)  # Prints odd numbers between 1 to 10\n",
        "\n"
      ]
    },
    {
      "cell_type": "code",
      "source": [
        "# prompt: Write code using continue to print odd numbers\n",
        "\n",
        "# Using continue to print odd numbers\n",
        "for i in range(1, 11):\n",
        "    if i % 2 == 0:\n",
        "        continue\n",
        "    print(i, end=\" \")"
      ],
      "metadata": {
        "id": "EVyNYddb_0kd",
        "colab": {
          "base_uri": "https://localhost:8080/"
        },
        "outputId": "7276d139-7b6a-41b2-a2a7-7d07fd0f833a"
      },
      "id": "EVyNYddb_0kd",
      "execution_count": null,
      "outputs": [
        {
          "output_type": "stream",
          "name": "stdout",
          "text": [
            "1 3 5 7 9 "
          ]
        }
      ]
    },
    {
      "cell_type": "markdown",
      "id": "63044f5a",
      "metadata": {
        "id": "63044f5a"
      },
      "source": [
        "5. **break statement**: Used to exit a loop prematurely based on certain conditions."
      ]
    },
    {
      "cell_type": "code",
      "execution_count": null,
      "id": "d86ede23",
      "metadata": {
        "colab": {
          "base_uri": "https://localhost:8080/"
        },
        "id": "d86ede23",
        "outputId": "4f2f1a3b-110d-4a99-d29c-971220220c9a"
      },
      "outputs": [
        {
          "output_type": "stream",
          "name": "stdout",
          "text": [
            "1 2 3 4 5 Before break\n",
            "Outside Loop\n"
          ]
        }
      ],
      "source": [
        "# Example of break statement\n",
        "for i in range(1, 11):\n",
        "    if i > 5:\n",
        "        print(\"Before break\")\n",
        "        break                 # Stops the loop when i becomes greater than 5\n",
        "        print(\"After break\")  # will never get printed as its after break statement\n",
        "    print(i, end=\" \")  # Prints numbers 1 to 5 separated by space\n",
        "\n",
        "print(\"Outside Loop\")"
      ]
    },
    {
      "cell_type": "markdown",
      "id": "9cc8e093",
      "metadata": {
        "id": "9cc8e093"
      },
      "source": [
        "6. **pass statement**: Used when a statement is syntactically required but you want to do nothing or placeholder for future code."
      ]
    },
    {
      "cell_type": "code",
      "execution_count": null,
      "id": "a42ac730",
      "metadata": {
        "id": "a42ac730",
        "colab": {
          "base_uri": "https://localhost:8080/"
        },
        "outputId": "6c29849e-0f7f-49c7-b154-32518e31d34f"
      },
      "outputs": [
        {
          "output_type": "stream",
          "name": "stdout",
          "text": [
            "x is greater than or equal to 10\n"
          ]
        }
      ],
      "source": [
        "# Example of pass statement\n",
        "x = 11\n",
        "if x < 10:\n",
        "    pass\n",
        "else:\n",
        "    print(\"x is greater than or equal to 10\")"
      ]
    },
    {
      "cell_type": "code",
      "execution_count": null,
      "id": "e836b783",
      "metadata": {
        "id": "e836b783"
      },
      "outputs": [],
      "source": [
        "for i in range(5):\n",
        "  pass"
      ]
    },
    {
      "cell_type": "markdown",
      "id": "76ce408d",
      "metadata": {
        "id": "76ce408d"
      },
      "source": [
        "### Frequently asked interview questions"
      ]
    },
    {
      "cell_type": "markdown",
      "id": "27865f8f",
      "metadata": {
        "id": "27865f8f"
      },
      "source": [
        "1. Write a Python function `print_even(x,y)` to print all the even numbers between x and y."
      ]
    },
    {
      "cell_type": "code",
      "source": [
        "#Function to check if a number is even or not\n",
        "\n",
        "def checkEven(x):\n",
        "  return x%2 ==0\n",
        "\n",
        "def print_even(x,y):\n",
        "  for i in range(x,y+1):\n",
        "    if checkEven(i):\n",
        "      print(i, end=\" \")\n",
        "\n",
        "print_even(2,20)"
      ],
      "metadata": {
        "colab": {
          "base_uri": "https://localhost:8080/"
        },
        "id": "35w2TAaMeRBE",
        "outputId": "a6e5130c-56b4-4d44-aa84-8b5a23c3d1b3"
      },
      "id": "35w2TAaMeRBE",
      "execution_count": null,
      "outputs": [
        {
          "output_type": "stream",
          "name": "stdout",
          "text": [
            "2 4 6 8 10 12 14 16 18 20 "
          ]
        }
      ]
    },
    {
      "cell_type": "markdown",
      "id": "48fd5a71",
      "metadata": {
        "id": "48fd5a71"
      },
      "source": [
        "2. Write a Python function `print_prime(x,y)` to print all the prime numbers between x and y."
      ]
    },
    {
      "cell_type": "code",
      "source": [
        "def checkPrime(x):\n",
        "  if x == 1:\n",
        "    return False\n",
        "  for i in range(2,x):\n",
        "    if x%i == 0:\n",
        "      return False\n",
        "  return True\n",
        "\n",
        "def print_prime(x,y):\n",
        "  for i in range(x,y+1):\n",
        "    if checkPrime(i):\n",
        "      print(i, end=\" \")\n",
        "\n",
        "print_prime(1,20)"
      ],
      "metadata": {
        "colab": {
          "base_uri": "https://localhost:8080/"
        },
        "id": "THACdoTafK2Q",
        "outputId": "31b4dedb-2feb-4653-d319-0248946d25fa"
      },
      "id": "THACdoTafK2Q",
      "execution_count": null,
      "outputs": [
        {
          "output_type": "stream",
          "name": "stdout",
          "text": [
            "2 3 5 7 11 13 17 19 "
          ]
        }
      ]
    },
    {
      "cell_type": "markdown",
      "id": "4fd2fa8e",
      "metadata": {
        "id": "4fd2fa8e"
      },
      "source": [
        "## 4. Functions"
      ]
    },
    {
      "cell_type": "markdown",
      "id": "2a31da44",
      "metadata": {
        "id": "2a31da44"
      },
      "source": [
        "### User defined Function"
      ]
    },
    {
      "cell_type": "markdown",
      "id": "00731e77",
      "metadata": {
        "id": "00731e77"
      },
      "source": [
        "\n",
        "\n",
        "- User-defined functions in Python are created using the `def` keyword followed by the function name and parameters, if any.\n",
        "- Within the function body, you define the operations to be performed.\n",
        "- When the function is called, arguments are passed to it, and the function executes the defined operations using these arguments.\n",
        "- It can return a value using the `return` statement.\n",
        "- Functions allow for modularization of code, making it reusable and easier to maintain. They enhance code readability and organization by encapsulating specific tasks into named blocks of code.\n",
        "\n",
        "**Example:**\n",
        "\n",
        "```python\n",
        "# Example of a user-defined function\n",
        "def add_numbers(x, y):\n",
        "    \"\"\"Function to add two numbers.\"\"\"\n",
        "    return x + y\n",
        "\n",
        "# Calling the function\n",
        "result = add_numbers(3, 5)\n",
        "print(\"Result:\", result)  # Output: 8\n",
        "```\n",
        "\n",
        "In this example, `add_numbers()` is a user-defined function that takes two arguments `x` and `y`, adds them, and returns the result. When called with arguments `3` and `5`, it returns `8`, which is then printed."
      ]
    },
    {
      "cell_type": "code",
      "source": [],
      "metadata": {
        "id": "bcAY3fCD5S1E"
      },
      "id": "bcAY3fCD5S1E",
      "execution_count": null,
      "outputs": []
    },
    {
      "cell_type": "code",
      "execution_count": null,
      "id": "aea15f11",
      "metadata": {
        "id": "aea15f11"
      },
      "outputs": [],
      "source": []
    },
    {
      "cell_type": "code",
      "execution_count": null,
      "id": "991b4922",
      "metadata": {
        "id": "991b4922"
      },
      "outputs": [],
      "source": []
    },
    {
      "cell_type": "markdown",
      "id": "87a4e638",
      "metadata": {
        "id": "87a4e638"
      },
      "source": [
        "### Map function"
      ]
    },
    {
      "cell_type": "markdown",
      "id": "1a0f3ae9",
      "metadata": {
        "id": "1a0f3ae9"
      },
      "source": [
        "\n",
        "\n",
        "- The `map` function in Python applies a given function to each item of an iterable (such as a list, tuple, or set) and returns a new iterator that yields the results.\n",
        "- It takes two arguments: the function to apply and the iterable to apply it to.\n",
        "- The function provided to `map` can be a built-in function, a lambda function, or a user-defined function.\n",
        "- `map` is commonly used to apply a transformation or operation to all elements of a collection without the need for explicit loops.\n",
        "- It offers a more concise and efficient alternative to using a `for` loop with a list comprehension.\n",
        "\n",
        "**Example:**\n",
        "\n",
        "```python\n",
        "# Example of using map function\n",
        "def square(x):\n",
        "    \"\"\"Function to square a number.\"\"\"\n",
        "    return x ** 2\n",
        "\n",
        "# Applying square function to each element of the list using map\n",
        "numbers = [1, 2, 3, 4, 5]\n",
        "squared_numbers = map(square, numbers)\n",
        "\n",
        "# Converting the map object to a list\n",
        "squared_numbers_list = list(squared_numbers)\n",
        "print(\"Squared Numbers:\", squared_numbers_list)  # Output: [1, 4, 9, 16, 25]\n",
        "```\n",
        "\n",
        "In this example, the `map` function is used to apply the `square` function to each element of the `numbers` list, resulting in a new list containing the squared values."
      ]
    },
    {
      "cell_type": "code",
      "execution_count": null,
      "id": "c7cebb12",
      "metadata": {
        "id": "c7cebb12",
        "colab": {
          "base_uri": "https://localhost:8080/"
        },
        "outputId": "4125f728-f54f-4126-bf0f-fa2081f16d0e"
      },
      "outputs": [
        {
          "output_type": "execute_result",
          "data": {
            "text/plain": [
              "[1, 8, 27, 64, 125]"
            ]
          },
          "metadata": {},
          "execution_count": 13
        }
      ],
      "source": [
        "# Convert this list of numbers to list of its cubes\n",
        "# Input: numbers = [1, 2, 3, 4, 5]\n",
        "# Output: [1, 8, 27, 64, 125]\n",
        "\n",
        "numbers = [1, 2, 3, 4, 5]\n",
        "cubic_numbers = list(map(lambda x:x**3, numbers))\n",
        "cubic_numbers"
      ]
    },
    {
      "cell_type": "markdown",
      "id": "9650c8e5",
      "metadata": {
        "id": "9650c8e5"
      },
      "source": [
        "### Lambda Function"
      ]
    },
    {
      "cell_type": "markdown",
      "id": "ef32cd05",
      "metadata": {
        "id": "ef32cd05"
      },
      "source": [
        "\n",
        "\n",
        "- Lambda functions in Python are created using the `lambda` keyword, followed by the parameters and a colon, and then the expression to be evaluated.\n",
        "- Lambda functions are anonymous functions, meaning they do not have a name.\n",
        "- They are typically used for simple, one-line operations and are often passed as arguments to higher-order functions.\n",
        "- Lambda functions can take any number of arguments, but they can only have one expression.\n",
        "- They are useful for writing concise code and can be used in situations where defining a named function is unnecessary.\n",
        "\n",
        "**Example:**\n",
        "\n",
        "```python\n",
        "# Example of a lambda function\n",
        "add_numbers = lambda x, y: x + y\n",
        "\n",
        "# Calling the lambda function\n",
        "result = add_numbers(3, 5)\n",
        "print(\"Result:\", result)  # Output: 8\n",
        "```\n",
        "\n",
        "In this example, `add_numbers` is a lambda function that takes two arguments `x` and `y`, adds them, and returns the result. When called with arguments `3` and `5`, it returns `8`, which is then printed."
      ]
    },
    {
      "cell_type": "code",
      "execution_count": null,
      "id": "a87530d6",
      "metadata": {
        "id": "a87530d6"
      },
      "outputs": [],
      "source": []
    },
    {
      "cell_type": "markdown",
      "id": "f1b6a658",
      "metadata": {
        "id": "f1b6a658"
      },
      "source": [
        "### Filter function"
      ]
    },
    {
      "cell_type": "markdown",
      "id": "772319c0",
      "metadata": {
        "id": "772319c0"
      },
      "source": [
        "Sure, here's an explanation of the `filter()` function in Python:\n",
        "\n",
        "- The `filter()` function in Python is used to filter elements from an iterable (such as a list) based on a given function.\n",
        "- It takes two arguments: the function that determines the filtering criteria and the iterable to be filtered.\n",
        "- The function passed to `filter()` should return `True` for elements that should be included in the filtered result and `False` for elements that should be excluded.\n",
        "- The `filter()` function returns an iterator containing only the elements for which the function returns `True`.\n",
        "- It is often used in conjunction with lambda functions or custom-defined functions to apply specific filtering criteria to iterables.\n",
        "\n",
        "**Example:**\n",
        "\n",
        "```python\n",
        "# Example of filter() function\n",
        "# Function to filter even numbers\n",
        "def is_even(num):\n",
        "    \"\"\"Function to check if a number is even.\"\"\"\n",
        "    return num % 2 == 0\n",
        "\n",
        "# List of numbers\n",
        "numbers = [1, 2, 3, 4, 5, 6, 7, 8, 9, 10]\n",
        "\n",
        "# Filter even numbers using filter() and is_even() function\n",
        "even_numbers = filter(is_even, numbers)\n",
        "\n",
        "# Convert the result to a list\n",
        "even_numbers_list = list(even_numbers)\n",
        "\n",
        "print(\"Even numbers:\", even_numbers_list)  # Output: [2, 4, 6, 8, 10]\n",
        "```\n",
        "\n",
        "In this example, `filter()` is used to filter even numbers from the `numbers` list using the `is_even()` function. The resulting iterator is converted to a list, which contains only the even numbers `[2, 4, 6, 8, 10]`."
      ]
    },
    {
      "cell_type": "code",
      "execution_count": null,
      "id": "ae6fb00a",
      "metadata": {
        "id": "ae6fb00a"
      },
      "outputs": [],
      "source": []
    },
    {
      "cell_type": "markdown",
      "id": "a9373294",
      "metadata": {
        "id": "a9373294"
      },
      "source": [
        "### Reduce Function"
      ]
    },
    {
      "cell_type": "markdown",
      "id": "a2e9fe99",
      "metadata": {
        "id": "a2e9fe99"
      },
      "source": [
        "Sure, here's an explanation of the `reduce()` function in Python:\n",
        "\n",
        "- The `reduce()` function is part of the `functools` module in Python and is used to apply a function to a sequence of elements.\n",
        "- It repeatedly applies the specified function to the elements of the sequence, reducing them to a single value.\n",
        "- The function passed to `reduce()` should accept two arguments and return a single value.\n",
        "- It takes three arguments: the function to apply, the sequence of elements, and an optional initializer value.\n",
        "- If an initializer value is provided, it is used as the initial value for the computation; otherwise, the first two elements of the sequence are used.\n",
        "- The result of the reduction is the final accumulated value.\n",
        "\n",
        "**Example:**\n",
        "\n",
        "```python\n",
        "from functools import reduce\n",
        "\n",
        "# Example of reduce function to find the sum of elements in a list\n",
        "numbers = [1, 2, 3, 4, 5]\n",
        "sum_of_numbers = reduce(lambda x, y: x + y, numbers)\n",
        "print(\"Sum of numbers:\", sum_of_numbers)  # Output: 15\n",
        "```\n",
        "\n",
        "In this example, `reduce()` is used to find the sum of elements in the `numbers` list. The `lambda` function passed to `reduce()` takes two arguments `x` and `y` and returns their sum. The `reduce()` function iteratively applies this function to the elements of the list, resulting in the sum of all elements."
      ]
    },
    {
      "cell_type": "code",
      "execution_count": null,
      "id": "4f2101e1",
      "metadata": {
        "id": "4f2101e1",
        "colab": {
          "base_uri": "https://localhost:8080/"
        },
        "outputId": "057c11c2-0c0f-45c9-f813-ecc818a22763"
      },
      "outputs": [
        {
          "output_type": "stream",
          "name": "stdout",
          "text": [
            "Sum of numbers: 15\n"
          ]
        }
      ],
      "source": [
        "from functools import reduce\n",
        "\n",
        "# Example of reduce function to find the sum of elements in a list\n",
        "numbers = [1, 2, 3, 4, 5]\n",
        "sum_of_numbers = reduce(lambda x, y: x + y, numbers)\n",
        "print(\"Sum of numbers:\", sum_of_numbers)  # Output: 15"
      ]
    },
    {
      "cell_type": "code",
      "execution_count": null,
      "id": "e79de196",
      "metadata": {
        "id": "e79de196"
      },
      "outputs": [],
      "source": []
    },
    {
      "cell_type": "markdown",
      "id": "ca87371e",
      "metadata": {
        "id": "ca87371e"
      },
      "source": [
        "### Accumulate Function"
      ]
    },
    {
      "cell_type": "markdown",
      "id": "cdd52f40",
      "metadata": {
        "id": "cdd52f40"
      },
      "source": [
        "Sure, here's the explanation in bullet points with an example:\n",
        "\n",
        "- The `itertools` module in Python provides an `accumulate()` function that generates accumulated sums or accumulated results of other binary functions.\n",
        "- It takes an iterable (such as a list or tuple) and an optional binary function as arguments.\n",
        "- By default, it performs addition if no function is provided.\n",
        "- The function accumulates the results from the iterable, returning an iterator of accumulated values.\n",
        "- It's particularly useful for calculating cumulative sums or other accumulated results efficiently.\n",
        "- The `accumulate()` function can be imported from the `itertools` module: `from itertools import accumulate`.\n",
        "\n",
        "**Example:**\n",
        "\n",
        "```python\n",
        "# Example of the accumulate function\n",
        "from itertools import accumulate\n",
        "\n",
        "# Calculate cumulative sum of a list\n",
        "numbers = [1, 2, 3, 4, 5]\n",
        "cumulative_sum = accumulate(numbers)\n",
        "print(\"Cumulative Sum:\", list(cumulative_sum))  # Output: [1, 3, 6, 10, 15]\n",
        "\n",
        "# Calculate cumulative product of a list\n",
        "cumulative_product = accumulate(numbers, lambda x, y: x * y)\n",
        "print(\"Cumulative Product:\", list(cumulative_product))  # Output: [1, 2, 6, 24, 120]\n",
        "```\n",
        "\n",
        "In this example, `accumulate()` is used to calculate both the cumulative sum and cumulative product of a list of numbers. The first call to `accumulate()` calculates the cumulative sum, and the second call calculates the cumulative product using a lambda function. The results are then printed."
      ]
    },
    {
      "cell_type": "markdown",
      "id": "51c9c46e",
      "metadata": {
        "id": "51c9c46e"
      },
      "source": [
        "### Frequently asked interview questions"
      ]
    },
    {
      "cell_type": "markdown",
      "id": "29b6fa40",
      "metadata": {
        "id": "29b6fa40"
      },
      "source": [
        "#### Q. Write a Python program that uses map() to apply a lambda function that doubles each number in a list.\n",
        "\n",
        "#### For example, if the input list is [1, 2, 3, 4, 5], the program should output [1,4,6,8,10]."
      ]
    },
    {
      "cell_type": "markdown",
      "id": "00a64c2f",
      "metadata": {
        "id": "00a64c2f"
      },
      "source": [
        "#### Q. Use the filter() function to extract even numbers from a list of integers.\n",
        "\n",
        "#### For example, if the input list is [1, 2, 3, 4, 5], the program should output [2,4]."
      ]
    },
    {
      "cell_type": "markdown",
      "source": [
        "## 1. What is a Class?\n",
        "\n",
        "A **class** in Python is a blueprint for creating objects.\n",
        "It defines attributes (variables) and methods (functions) that the created objects will have.\n",
        "\n",
        "---\n",
        "\n",
        "## 2. Syntax of a Class\n",
        "\n",
        "```python\n",
        "class ClassName:\n",
        "    def __init__(self, attribute1, attribute2):\n",
        "        self.attribute1 = attribute1\n",
        "        self.attribute2 = attribute2\n",
        "\n",
        "    def method_name(self):\n",
        "        print(f\"Attribute1 is {self.attribute1} and Attribute2 is {self.attribute2}\")\n",
        "```\n",
        "\n",
        "---\n",
        "\n",
        "## 3. Key Points\n",
        "\n",
        "* `class`: Keyword to define a class.\n",
        "* `__init__`: Constructor method that initializes object attributes.\n",
        "* `self`: Refers to the current instance of the class.\n",
        "* **Attributes**: Variables that belong to the object.\n",
        "* **Methods**: Functions that belong to the class.\n",
        "\n",
        "---\n",
        "\n",
        "## 4. Creating Objects\n",
        "\n",
        "```python\n",
        "# Creating an object of ClassName\n",
        "obj = ClassName(\"Value1\", \"Value2\")\n",
        "\n",
        "# Calling a method\n",
        "obj.method_name()\n",
        "```\n",
        "\n",
        "---\n",
        "\n",
        "## 5. Example: Student Class\n",
        "\n",
        "```python\n",
        "class Student:\n",
        "    def __init__(self, name, age):\n",
        "        self.name = name\n",
        "        self.age = age\n",
        "    \n",
        "    def introduce(self):\n",
        "        print(f\"My name is {self.name} and I am {self.age} years old.\")\n",
        "\n",
        "# Create an object\n",
        "student1 = Student(\"Alice\", 20)\n",
        "\n",
        "# Call the method\n",
        "student1.introduce()\n",
        "```\n",
        "\n",
        "**Output:**\n",
        "\n",
        "```\n",
        "My name is Alice and I am 20 years old.\n",
        "```\n",
        "\n",
        "---\n",
        "\n",
        "## 6. Benefits of Classes\n",
        "\n",
        "* Organize code (Encapsulation)\n",
        "* Reusability\n",
        "* Easy to maintain\n",
        "* Models real-world entities\n",
        "\n",
        "---\n"
      ],
      "metadata": {
        "id": "QKZItF6CjEGZ"
      },
      "id": "QKZItF6CjEGZ"
    },
    {
      "cell_type": "markdown",
      "source": [
        "## Problem Statement\n",
        "You are building a simple program to store details about books.  \n",
        "Write a **Python class** called `Book` with the following:\n",
        "\n",
        "### Requirements\n",
        "1. **Attributes** (variables that belong to the class):\n",
        "   - `title`: The title of the book\n",
        "   - `author`: The name of the author\n",
        "   - `pages`: The number of pages in the book\n",
        "\n",
        "2. **Method**:\n",
        "   - `display_info()`: This method should **print** the book’s title, author, and page count in a neat format.\n",
        "\n",
        "3. **Create two book objects** with details of your choice and **call** `display_info()` on each.\n",
        "\n",
        "---\n",
        "\n",
        "### Example\n",
        "If you create:\n",
        "- Book 1: Title = `\"Harry Potter\"`, Author = `\"J.K. Rowling\"`, Pages = `500`\n",
        "- Book 2: Title = `\"The Hobbit\"`, Author = `\"J.R.R. Tolkien\"`, Pages = `300`\n",
        "\n",
        "Your program should print:\n",
        "\n",
        "- Harry Potter written by J.K. Rowling has 500 pages\n",
        "- The Hobbit written by J.R.R. Tolkien has 500 pages"
      ],
      "metadata": {
        "id": "2abNFvabXaLs"
      },
      "id": "2abNFvabXaLs"
    },
    {
      "cell_type": "code",
      "source": [
        "class Book:\n",
        "    def __init__(self, title, author, pages):\n",
        "        self.title = title\n",
        "        self.author = author\n",
        "        self.pages = pages\n",
        "\n",
        "    def display_info(self):\n",
        "        print(f\"{self.title} written by {self.author} has {self.pages} pages\")\n",
        "\n",
        "# Create an object\n",
        "book1 = Book(\"Harry Potter\", \"J.K. Rowling\", 500)\n",
        "book2 = Book(\"The Hobbit\", \"J.R.R. Tolkien\", 300)\n",
        "\n",
        "# Call the method\n",
        "book1.display_info()\n",
        "book2.display_info()"
      ],
      "metadata": {
        "colab": {
          "base_uri": "https://localhost:8080/"
        },
        "id": "fl52dHlPXwsU",
        "outputId": "ae28d136-c99c-4b8e-b548-267da25426da"
      },
      "id": "fl52dHlPXwsU",
      "execution_count": null,
      "outputs": [
        {
          "output_type": "stream",
          "name": "stdout",
          "text": [
            "Harry Potter written by J.K. Rowling has 500 pages\n",
            "The Hobbit written by J.R.R. Tolkien has 300 pages\n"
          ]
        }
      ]
    },
    {
      "cell_type": "code",
      "source": [
        "x = 10\n",
        "y = 20\n",
        "\n",
        "print(f\"x = {x} and y = {y}\")"
      ],
      "metadata": {
        "colab": {
          "base_uri": "https://localhost:8080/"
        },
        "id": "fYKP9yS5Xawg",
        "outputId": "0b38918e-2b97-4f28-ba1f-f048d55c6c05"
      },
      "id": "fYKP9yS5Xawg",
      "execution_count": null,
      "outputs": [
        {
          "output_type": "stream",
          "name": "stdout",
          "text": [
            "x = 10 and y = 20\n"
          ]
        }
      ]
    }
  ],
  "metadata": {
    "kernelspec": {
      "display_name": "Python 3 (ipykernel)",
      "language": "python",
      "name": "python3"
    },
    "language_info": {
      "codemirror_mode": {
        "name": "ipython",
        "version": 3
      },
      "file_extension": ".py",
      "mimetype": "text/x-python",
      "name": "python",
      "nbconvert_exporter": "python",
      "pygments_lexer": "ipython3",
      "version": "3.9.12"
    },
    "colab": {
      "provenance": [],
      "include_colab_link": true
    }
  },
  "nbformat": 4,
  "nbformat_minor": 5
}